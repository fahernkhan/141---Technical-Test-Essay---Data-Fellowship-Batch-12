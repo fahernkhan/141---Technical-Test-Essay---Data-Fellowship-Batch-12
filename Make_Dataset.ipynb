{
 "cells": [
  {
   "cell_type": "markdown",
   "metadata": {},
   "source": [
    "# Make Dataset"
   ]
  },
  {
   "cell_type": "code",
   "execution_count": 3,
   "metadata": {},
   "outputs": [
    {
     "name": "stdout",
     "output_type": "stream",
     "text": [
      "   age  gender  income  daily_hours_physical_activity  \\\n",
      "0   56    Male   49241                              2   \n",
      "1   46  Female   64569                              2   \n",
      "2   32  Female   31745                              1   \n",
      "3   60  Female   46029                              0   \n",
      "4   25    Male   33025                              0   \n",
      "\n",
      "   servings_fruits_veggies        BMI self_reported_health_status  \n",
      "0                        0  39.469877                        Good  \n",
      "1                        7  36.064939                        Fair  \n",
      "2                        9  36.829770                        Poor  \n",
      "3                        5  38.666252                   Very Good  \n",
      "4                        4  20.329725                   Excellent  \n"
     ]
    }
   ],
   "source": [
    "import pandas as pd\n",
    "import numpy as np\n",
    "\n",
    "# Set seed for reproducibility\n",
    "np.random.seed(42)\n",
    "\n",
    "# Sample size\n",
    "n_samples = 1000\n",
    "\n",
    "# Generate data\n",
    "data = {\n",
    "    'age': np.random.randint(18, 65, size=n_samples),\n",
    "    'gender': np.random.choice(['Male', 'Female'], size=n_samples),\n",
    "    'income': np.random.randint(20000, 100000, size=n_samples),\n",
    "    'daily_hours_physical_activity': np.random.randint(0, 3, size=n_samples),  # Hours per day\n",
    "    'servings_fruits_veggies': np.random.randint(0, 10, size=n_samples),  # Servings per day\n",
    "    'BMI': np.random.uniform(18.5, 40, size=n_samples),\n",
    "    'self_reported_health_status': np.random.choice(['Poor', 'Fair', 'Good', 'Very Good', 'Excellent'], size=n_samples)\n",
    "}\n",
    "\n",
    "# Create DataFrame\n",
    "df = pd.DataFrame(data)\n",
    "\n",
    "# Display the first few rows of the dataframe\n",
    "print(df.head())\n",
    "\n",
    "# Save DataFrame to CSV\n",
    "df.to_csv('dataset.csv', index=False)\n"
   ]
  }
 ],
 "metadata": {
  "kernelspec": {
   "display_name": "Python 3",
   "language": "python",
   "name": "python3"
  },
  "language_info": {
   "codemirror_mode": {
    "name": "ipython",
    "version": 3
   },
   "file_extension": ".py",
   "mimetype": "text/x-python",
   "name": "python",
   "nbconvert_exporter": "python",
   "pygments_lexer": "ipython3",
   "version": "3.9.6"
  }
 },
 "nbformat": 4,
 "nbformat_minor": 2
}
