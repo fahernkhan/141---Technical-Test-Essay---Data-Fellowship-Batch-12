{
 "cells": [
  {
   "cell_type": "markdown",
   "metadata": {},
   "source": [
    "# Feature Engineering"
   ]
  },
  {
   "cell_type": "code",
   "execution_count": 4,
   "metadata": {},
   "outputs": [],
   "source": [
    "import numpy as np\n",
    "import pandas as pd\n",
    "from sklearn.preprocessing import LabelEncoder\n",
    "from sklearn.feature_selection import SelectKBest, f_classif\n",
    "from sklearn.decomposition import PCA"
   ]
  },
  {
   "cell_type": "code",
   "execution_count": 5,
   "metadata": {},
   "outputs": [],
   "source": [
    "# Load the dataset\n",
    "df = pd.read_csv(\"dataset_new.csv\")"
   ]
  },
  {
   "cell_type": "code",
   "execution_count": 7,
   "metadata": {},
   "outputs": [
    {
     "name": "stdout",
     "output_type": "stream",
     "text": [
      "<class 'pandas.core.frame.DataFrame'>\n",
      "RangeIndex: 1000 entries, 0 to 999\n",
      "Data columns (total 8 columns):\n",
      " #   Column                         Non-Null Count  Dtype  \n",
      "---  ------                         --------------  -----  \n",
      " 0   age                            1000 non-null   int64  \n",
      " 1   income                         1000 non-null   int64  \n",
      " 2   daily_hours_physical_activity  1000 non-null   int64  \n",
      " 3   servings_fruits_veggies        1000 non-null   int64  \n",
      " 4   BMI                            1000 non-null   float64\n",
      " 5   gender_male                    1000 non-null   float64\n",
      " 6   encoded_health_status          1000 non-null   int64  \n",
      " 7   bmi_category                   1000 non-null   object \n",
      "dtypes: float64(2), int64(5), object(1)\n",
      "memory usage: 62.6+ KB\n"
     ]
    }
   ],
   "source": [
    "df.info()"
   ]
  },
  {
   "cell_type": "markdown",
   "metadata": {},
   "source": [
    "## Feature Engineering Create BMI category feature ---------"
   ]
  },
  {
   "cell_type": "code",
   "execution_count": 8,
   "metadata": {},
   "outputs": [],
   "source": [
    "def categorize_bmi(bmi):\n",
    "    if bmi < 18.5:\n",
    "        return 'Underweight'\n",
    "    elif 18.5 <= bmi < 25:\n",
    "        return 'Normal Weight'\n",
    "    elif 25 <= bmi < 30:\n",
    "        return 'Overweight'\n",
    "    else:\n",
    "        return 'Obese'\n",
    "\n",
    "df['bmi_category'] = df['BMI'].apply(categorize_bmi)"
   ]
  },
  {
   "cell_type": "code",
   "execution_count": 9,
   "metadata": {},
   "outputs": [],
   "source": [
    "# Label encode BMI category for modeling\n",
    "label_encoder = LabelEncoder()\n",
    "df['encoded_bmi_category'] = label_encoder.fit_transform(df['bmi_category'])"
   ]
  },
  {
   "cell_type": "markdown",
   "metadata": {},
   "source": [
    "## Feature Selection Select top k features using ANOVA F-value ------------"
   ]
  },
  {
   "cell_type": "code",
   "execution_count": 16,
   "metadata": {},
   "outputs": [],
   "source": [
    "selector = SelectKBest(score_func=f_classif, k=5)\n",
    "X = df.drop(columns=['encoded_health_status', 'bmi_category'])\n",
    "y = df['encoded_health_status']\n",
    "selected_features = selector.fit_transform(X, y)"
   ]
  },
  {
   "cell_type": "markdown",
   "metadata": {},
   "source": [
    "## Principal Component Analysis (PCA) for dimensionality reduction -----------"
   ]
  },
  {
   "cell_type": "code",
   "execution_count": 17,
   "metadata": {},
   "outputs": [],
   "source": [
    "pca = PCA(n_components=5)\n",
    "X_pca = pca.fit_transform(X)"
   ]
  },
  {
   "cell_type": "code",
   "execution_count": 18,
   "metadata": {},
   "outputs": [
    {
     "name": "stdout",
     "output_type": "stream",
     "text": [
      "Selected features after feature selection:\n",
      "[[5.6000e+01 4.9241e+04 2.0000e+00 1.0000e+00 1.0000e+00]\n",
      " [4.6000e+01 6.4569e+04 2.0000e+00 0.0000e+00 1.0000e+00]\n",
      " [3.2000e+01 3.1745e+04 1.0000e+00 0.0000e+00 1.0000e+00]\n",
      " ...\n",
      " [2.7000e+01 4.0644e+04 0.0000e+00 0.0000e+00 1.0000e+00]\n",
      " [6.1000e+01 3.8745e+04 2.0000e+00 1.0000e+00 0.0000e+00]\n",
      " [1.9000e+01 4.8228e+04 2.0000e+00 1.0000e+00 2.0000e+00]]\n"
     ]
    }
   ],
   "source": [
    "# Print selected features\n",
    "print(\"Selected features after feature selection:\")\n",
    "print(selected_features)"
   ]
  },
  {
   "cell_type": "code",
   "execution_count": 21,
   "metadata": {},
   "outputs": [
    {
     "name": "stdout",
     "output_type": "stream",
     "text": [
      "Principal components after PCA:\n",
      "[[-1.06313920e+04  1.50585840e+01  1.06594309e+01  4.18845473e+00\n",
      "   1.01852694e+00]\n",
      " [ 4.69660795e+03  4.88441585e+00  7.20113393e+00 -2.71026998e+00\n",
      "   1.04385945e+00]\n",
      " [-2.81273922e+04 -8.79147146e+00  7.36986576e+00 -4.51119547e+00\n",
      "   5.64016818e-02]\n",
      " ...\n",
      " [-1.92283923e+04 -1.38625400e+01  9.49600290e+00  1.43156678e+00\n",
      "  -9.58662353e-01]\n",
      " [-2.11273917e+04  2.02858924e+01 -6.82145262e+00 -1.37423008e+00\n",
      "   1.05905621e+00]\n",
      " [-1.16443922e+04 -2.18617491e+01 -5.41003470e-01  7.16599207e-01\n",
      "   9.39119806e-01]]\n"
     ]
    }
   ],
   "source": [
    "# Print principal components after PCA\n",
    "print(\"Principal components after PCA:\")\n",
    "print(X_pca)"
   ]
  }
 ],
 "metadata": {
  "kernelspec": {
   "display_name": "Python 3",
   "language": "python",
   "name": "python3"
  },
  "language_info": {
   "codemirror_mode": {
    "name": "ipython",
    "version": 3
   },
   "file_extension": ".py",
   "mimetype": "text/x-python",
   "name": "python",
   "nbconvert_exporter": "python",
   "pygments_lexer": "ipython3",
   "version": "3.9.6"
  }
 },
 "nbformat": 4,
 "nbformat_minor": 2
}
