{
 "cells": [
  {
   "cell_type": "markdown",
   "metadata": {},
   "source": [
    "# Data Preprocessing"
   ]
  },
  {
   "cell_type": "code",
   "execution_count": 12,
   "metadata": {},
   "outputs": [],
   "source": [
    "import pandas as pd\n",
    "import numpy as np\n",
    "from sklearn.impute import SimpleImputer\n",
    "from sklearn.preprocessing import OneHotEncoder"
   ]
  },
  {
   "cell_type": "code",
   "execution_count": 13,
   "metadata": {},
   "outputs": [],
   "source": [
    "# Step 1: Load the dataset\n",
    "df = pd.read_csv(\"dataset.csv\")"
   ]
  },
  {
   "cell_type": "code",
   "execution_count": 14,
   "metadata": {},
   "outputs": [],
   "source": [
    "# Step 1: Handling missing values\n",
    "# Identify columns with missing values\n",
    "missing_columns = df.columns[df.isnull().any()]"
   ]
  },
  {
   "cell_type": "code",
   "execution_count": 20,
   "metadata": {},
   "outputs": [
    {
     "name": "stdout",
     "output_type": "stream",
     "text": [
      "<class 'pandas.core.frame.DataFrame'>\n",
      "Int64Index: 1000 entries, 0 to 999\n",
      "Data columns (total 7 columns):\n",
      " #   Column                         Non-Null Count  Dtype  \n",
      "---  ------                         --------------  -----  \n",
      " 0   age                            1000 non-null   int64  \n",
      " 1   income                         1000 non-null   int64  \n",
      " 2   daily_hours_physical_activity  1000 non-null   int64  \n",
      " 3   servings_fruits_veggies        1000 non-null   int64  \n",
      " 4   BMI                            1000 non-null   float64\n",
      " 5   self_reported_health_status    1000 non-null   object \n",
      " 6   gender_male                    1000 non-null   float64\n",
      "dtypes: float64(2), int64(4), object(1)\n",
      "memory usage: 62.5+ KB\n"
     ]
    }
   ],
   "source": [
    "df.info()"
   ]
  },
  {
   "cell_type": "code",
   "execution_count": 16,
   "metadata": {},
   "outputs": [],
   "source": [
    "# Step 2: Identifying and handling outliers\n",
    "# For simplicity, let's use Z-score method to identify outliers in numerical columns\n",
    "from scipy import stats\n",
    "z_scores = np.abs(stats.zscore(df.select_dtypes(include=np.number)))\n",
    "outliers = (z_scores > 3).any(axis=1)\n",
    "df = df[~outliers]"
   ]
  },
  {
   "cell_type": "code",
   "execution_count": 17,
   "metadata": {},
   "outputs": [],
   "source": [
    "# Step 3: Converting categorical variables\n",
    "# One-hot encoding for categorical variable 'gender'\n",
    "onehot_encoder = OneHotEncoder(drop='first', sparse=False)\n",
    "gender_encoded = onehot_encoder.fit_transform(df[['gender']])\n",
    "gender_encoded_df = pd.DataFrame(gender_encoded, columns=['gender_male'])\n",
    "df = pd.concat([df, gender_encoded_df], axis=1)\n",
    "df.drop(columns=['gender'], inplace=True)"
   ]
  },
  {
   "cell_type": "code",
   "execution_count": 19,
   "metadata": {},
   "outputs": [
    {
     "name": "stdout",
     "output_type": "stream",
     "text": [
      "Cleaned dataset:\n"
     ]
    },
    {
     "data": {
      "text/html": [
       "<div>\n",
       "<style scoped>\n",
       "    .dataframe tbody tr th:only-of-type {\n",
       "        vertical-align: middle;\n",
       "    }\n",
       "\n",
       "    .dataframe tbody tr th {\n",
       "        vertical-align: top;\n",
       "    }\n",
       "\n",
       "    .dataframe thead th {\n",
       "        text-align: right;\n",
       "    }\n",
       "</style>\n",
       "<table border=\"1\" class=\"dataframe\">\n",
       "  <thead>\n",
       "    <tr style=\"text-align: right;\">\n",
       "      <th></th>\n",
       "      <th>age</th>\n",
       "      <th>income</th>\n",
       "      <th>daily_hours_physical_activity</th>\n",
       "      <th>servings_fruits_veggies</th>\n",
       "      <th>BMI</th>\n",
       "      <th>self_reported_health_status</th>\n",
       "      <th>gender_male</th>\n",
       "    </tr>\n",
       "  </thead>\n",
       "  <tbody>\n",
       "    <tr>\n",
       "      <th>0</th>\n",
       "      <td>56</td>\n",
       "      <td>49241</td>\n",
       "      <td>2</td>\n",
       "      <td>0</td>\n",
       "      <td>39.469877</td>\n",
       "      <td>Good</td>\n",
       "      <td>1.0</td>\n",
       "    </tr>\n",
       "    <tr>\n",
       "      <th>1</th>\n",
       "      <td>46</td>\n",
       "      <td>64569</td>\n",
       "      <td>2</td>\n",
       "      <td>7</td>\n",
       "      <td>36.064939</td>\n",
       "      <td>Fair</td>\n",
       "      <td>0.0</td>\n",
       "    </tr>\n",
       "    <tr>\n",
       "      <th>2</th>\n",
       "      <td>32</td>\n",
       "      <td>31745</td>\n",
       "      <td>1</td>\n",
       "      <td>9</td>\n",
       "      <td>36.829770</td>\n",
       "      <td>Poor</td>\n",
       "      <td>0.0</td>\n",
       "    </tr>\n",
       "    <tr>\n",
       "      <th>3</th>\n",
       "      <td>60</td>\n",
       "      <td>46029</td>\n",
       "      <td>0</td>\n",
       "      <td>5</td>\n",
       "      <td>38.666252</td>\n",
       "      <td>Very Good</td>\n",
       "      <td>0.0</td>\n",
       "    </tr>\n",
       "    <tr>\n",
       "      <th>4</th>\n",
       "      <td>25</td>\n",
       "      <td>33025</td>\n",
       "      <td>0</td>\n",
       "      <td>4</td>\n",
       "      <td>20.329725</td>\n",
       "      <td>Excellent</td>\n",
       "      <td>1.0</td>\n",
       "    </tr>\n",
       "  </tbody>\n",
       "</table>\n",
       "</div>"
      ],
      "text/plain": [
       "   age  income  daily_hours_physical_activity  servings_fruits_veggies  \\\n",
       "0   56   49241                              2                        0   \n",
       "1   46   64569                              2                        7   \n",
       "2   32   31745                              1                        9   \n",
       "3   60   46029                              0                        5   \n",
       "4   25   33025                              0                        4   \n",
       "\n",
       "         BMI self_reported_health_status  gender_male  \n",
       "0  39.469877                        Good          1.0  \n",
       "1  36.064939                        Fair          0.0  \n",
       "2  36.829770                        Poor          0.0  \n",
       "3  38.666252                   Very Good          0.0  \n",
       "4  20.329725                   Excellent          1.0  "
      ]
     },
     "execution_count": 19,
     "metadata": {},
     "output_type": "execute_result"
    }
   ],
   "source": [
    "# Print the cleaned dataset\n",
    "print(\"Cleaned dataset: \")\n",
    "df.head()"
   ]
  },
  {
   "cell_type": "markdown",
   "metadata": {},
   "source": [
    "1:male\n",
    "0:female"
   ]
  },
  {
   "cell_type": "code",
   "execution_count": 21,
   "metadata": {},
   "outputs": [
    {
     "name": "stdout",
     "output_type": "stream",
     "text": [
      "Encoded dataset:\n"
     ]
    },
    {
     "data": {
      "text/html": [
       "<div>\n",
       "<style scoped>\n",
       "    .dataframe tbody tr th:only-of-type {\n",
       "        vertical-align: middle;\n",
       "    }\n",
       "\n",
       "    .dataframe tbody tr th {\n",
       "        vertical-align: top;\n",
       "    }\n",
       "\n",
       "    .dataframe thead th {\n",
       "        text-align: right;\n",
       "    }\n",
       "</style>\n",
       "<table border=\"1\" class=\"dataframe\">\n",
       "  <thead>\n",
       "    <tr style=\"text-align: right;\">\n",
       "      <th></th>\n",
       "      <th>age</th>\n",
       "      <th>income</th>\n",
       "      <th>daily_hours_physical_activity</th>\n",
       "      <th>servings_fruits_veggies</th>\n",
       "      <th>BMI</th>\n",
       "      <th>self_reported_health_status</th>\n",
       "      <th>gender_male</th>\n",
       "      <th>encoded_health_status</th>\n",
       "    </tr>\n",
       "  </thead>\n",
       "  <tbody>\n",
       "    <tr>\n",
       "      <th>0</th>\n",
       "      <td>56</td>\n",
       "      <td>49241</td>\n",
       "      <td>2</td>\n",
       "      <td>0</td>\n",
       "      <td>39.469877</td>\n",
       "      <td>Good</td>\n",
       "      <td>1.0</td>\n",
       "      <td>2</td>\n",
       "    </tr>\n",
       "    <tr>\n",
       "      <th>1</th>\n",
       "      <td>46</td>\n",
       "      <td>64569</td>\n",
       "      <td>2</td>\n",
       "      <td>7</td>\n",
       "      <td>36.064939</td>\n",
       "      <td>Fair</td>\n",
       "      <td>0.0</td>\n",
       "      <td>1</td>\n",
       "    </tr>\n",
       "    <tr>\n",
       "      <th>2</th>\n",
       "      <td>32</td>\n",
       "      <td>31745</td>\n",
       "      <td>1</td>\n",
       "      <td>9</td>\n",
       "      <td>36.829770</td>\n",
       "      <td>Poor</td>\n",
       "      <td>0.0</td>\n",
       "      <td>3</td>\n",
       "    </tr>\n",
       "    <tr>\n",
       "      <th>3</th>\n",
       "      <td>60</td>\n",
       "      <td>46029</td>\n",
       "      <td>0</td>\n",
       "      <td>5</td>\n",
       "      <td>38.666252</td>\n",
       "      <td>Very Good</td>\n",
       "      <td>0.0</td>\n",
       "      <td>4</td>\n",
       "    </tr>\n",
       "    <tr>\n",
       "      <th>4</th>\n",
       "      <td>25</td>\n",
       "      <td>33025</td>\n",
       "      <td>0</td>\n",
       "      <td>4</td>\n",
       "      <td>20.329725</td>\n",
       "      <td>Excellent</td>\n",
       "      <td>1.0</td>\n",
       "      <td>0</td>\n",
       "    </tr>\n",
       "  </tbody>\n",
       "</table>\n",
       "</div>"
      ],
      "text/plain": [
       "   age  income  daily_hours_physical_activity  servings_fruits_veggies  \\\n",
       "0   56   49241                              2                        0   \n",
       "1   46   64569                              2                        7   \n",
       "2   32   31745                              1                        9   \n",
       "3   60   46029                              0                        5   \n",
       "4   25   33025                              0                        4   \n",
       "\n",
       "         BMI self_reported_health_status  gender_male  encoded_health_status  \n",
       "0  39.469877                        Good          1.0                      2  \n",
       "1  36.064939                        Fair          0.0                      1  \n",
       "2  36.829770                        Poor          0.0                      3  \n",
       "3  38.666252                   Very Good          0.0                      4  \n",
       "4  20.329725                   Excellent          1.0                      0  "
      ]
     },
     "execution_count": 21,
     "metadata": {},
     "output_type": "execute_result"
    }
   ],
   "source": [
    "from sklearn.preprocessing import LabelEncoder\n",
    "\n",
    "# Label Encoding\n",
    "label_encoder = LabelEncoder()\n",
    "df['encoded_health_status'] = label_encoder.fit_transform(df['self_reported_health_status'])\n",
    "\n",
    "# Print the encoded dataset\n",
    "print(\"Encoded dataset:\")\n",
    "df.head()"
   ]
  },
  {
   "cell_type": "markdown",
   "metadata": {},
   "source": [
    "0:excellent\n",
    "1:Fair\n",
    "2:Good\n",
    "3:Poor\n",
    "4:Very Good"
   ]
  },
  {
   "cell_type": "code",
   "execution_count": 22,
   "metadata": {},
   "outputs": [
    {
     "name": "stdout",
     "output_type": "stream",
     "text": [
      "<class 'pandas.core.frame.DataFrame'>\n",
      "Int64Index: 1000 entries, 0 to 999\n",
      "Data columns (total 8 columns):\n",
      " #   Column                         Non-Null Count  Dtype  \n",
      "---  ------                         --------------  -----  \n",
      " 0   age                            1000 non-null   int64  \n",
      " 1   income                         1000 non-null   int64  \n",
      " 2   daily_hours_physical_activity  1000 non-null   int64  \n",
      " 3   servings_fruits_veggies        1000 non-null   int64  \n",
      " 4   BMI                            1000 non-null   float64\n",
      " 5   self_reported_health_status    1000 non-null   object \n",
      " 6   gender_male                    1000 non-null   float64\n",
      " 7   encoded_health_status          1000 non-null   int32  \n",
      "dtypes: float64(2), int32(1), int64(4), object(1)\n",
      "memory usage: 66.4+ KB\n"
     ]
    }
   ],
   "source": [
    "df.info()"
   ]
  },
  {
   "cell_type": "code",
   "execution_count": 23,
   "metadata": {},
   "outputs": [],
   "source": [
    "# Drop the original column 'self_reported_health_status'\n",
    "df.drop(columns=['self_reported_health_status'], inplace=True)"
   ]
  },
  {
   "cell_type": "code",
   "execution_count": 24,
   "metadata": {},
   "outputs": [
    {
     "name": "stdout",
     "output_type": "stream",
     "text": [
      "<class 'pandas.core.frame.DataFrame'>\n",
      "Int64Index: 1000 entries, 0 to 999\n",
      "Data columns (total 7 columns):\n",
      " #   Column                         Non-Null Count  Dtype  \n",
      "---  ------                         --------------  -----  \n",
      " 0   age                            1000 non-null   int64  \n",
      " 1   income                         1000 non-null   int64  \n",
      " 2   daily_hours_physical_activity  1000 non-null   int64  \n",
      " 3   servings_fruits_veggies        1000 non-null   int64  \n",
      " 4   BMI                            1000 non-null   float64\n",
      " 5   gender_male                    1000 non-null   float64\n",
      " 6   encoded_health_status          1000 non-null   int32  \n",
      "dtypes: float64(2), int32(1), int64(4)\n",
      "memory usage: 58.6 KB\n"
     ]
    }
   ],
   "source": [
    "df.info()"
   ]
  },
  {
   "cell_type": "code",
   "execution_count": 26,
   "metadata": {},
   "outputs": [
    {
     "name": "stdout",
     "output_type": "stream",
     "text": [
      "Cleaned dataset after removing outliers:\n"
     ]
    },
    {
     "data": {
      "text/html": [
       "<div>\n",
       "<style scoped>\n",
       "    .dataframe tbody tr th:only-of-type {\n",
       "        vertical-align: middle;\n",
       "    }\n",
       "\n",
       "    .dataframe tbody tr th {\n",
       "        vertical-align: top;\n",
       "    }\n",
       "\n",
       "    .dataframe thead th {\n",
       "        text-align: right;\n",
       "    }\n",
       "</style>\n",
       "<table border=\"1\" class=\"dataframe\">\n",
       "  <thead>\n",
       "    <tr style=\"text-align: right;\">\n",
       "      <th></th>\n",
       "      <th>age</th>\n",
       "      <th>income</th>\n",
       "      <th>daily_hours_physical_activity</th>\n",
       "      <th>servings_fruits_veggies</th>\n",
       "      <th>BMI</th>\n",
       "      <th>gender_male</th>\n",
       "      <th>encoded_health_status</th>\n",
       "    </tr>\n",
       "  </thead>\n",
       "  <tbody>\n",
       "    <tr>\n",
       "      <th>0</th>\n",
       "      <td>56</td>\n",
       "      <td>49241</td>\n",
       "      <td>2</td>\n",
       "      <td>0</td>\n",
       "      <td>39.469877</td>\n",
       "      <td>1.0</td>\n",
       "      <td>2</td>\n",
       "    </tr>\n",
       "    <tr>\n",
       "      <th>1</th>\n",
       "      <td>46</td>\n",
       "      <td>64569</td>\n",
       "      <td>2</td>\n",
       "      <td>7</td>\n",
       "      <td>36.064939</td>\n",
       "      <td>0.0</td>\n",
       "      <td>1</td>\n",
       "    </tr>\n",
       "    <tr>\n",
       "      <th>2</th>\n",
       "      <td>32</td>\n",
       "      <td>31745</td>\n",
       "      <td>1</td>\n",
       "      <td>9</td>\n",
       "      <td>36.829770</td>\n",
       "      <td>0.0</td>\n",
       "      <td>3</td>\n",
       "    </tr>\n",
       "    <tr>\n",
       "      <th>3</th>\n",
       "      <td>60</td>\n",
       "      <td>46029</td>\n",
       "      <td>0</td>\n",
       "      <td>5</td>\n",
       "      <td>38.666252</td>\n",
       "      <td>0.0</td>\n",
       "      <td>4</td>\n",
       "    </tr>\n",
       "    <tr>\n",
       "      <th>4</th>\n",
       "      <td>25</td>\n",
       "      <td>33025</td>\n",
       "      <td>0</td>\n",
       "      <td>4</td>\n",
       "      <td>20.329725</td>\n",
       "      <td>1.0</td>\n",
       "      <td>0</td>\n",
       "    </tr>\n",
       "  </tbody>\n",
       "</table>\n",
       "</div>"
      ],
      "text/plain": [
       "   age  income  daily_hours_physical_activity  servings_fruits_veggies  \\\n",
       "0   56   49241                              2                        0   \n",
       "1   46   64569                              2                        7   \n",
       "2   32   31745                              1                        9   \n",
       "3   60   46029                              0                        5   \n",
       "4   25   33025                              0                        4   \n",
       "\n",
       "         BMI  gender_male  encoded_health_status  \n",
       "0  39.469877          1.0                      2  \n",
       "1  36.064939          0.0                      1  \n",
       "2  36.829770          0.0                      3  \n",
       "3  38.666252          0.0                      4  \n",
       "4  20.329725          1.0                      0  "
      ]
     },
     "execution_count": 26,
     "metadata": {},
     "output_type": "execute_result"
    }
   ],
   "source": [
    "from scipy import stats\n",
    "\n",
    "# Calculate Z-scores for numerical columns\n",
    "z_scores = stats.zscore(df.select_dtypes(include=np.number))\n",
    "\n",
    "# Define a threshold for identifying outliers (e.g., Z-score > 3)\n",
    "threshold = 3\n",
    "\n",
    "# Identify outliers\n",
    "outliers = np.abs(z_scores) > threshold\n",
    "\n",
    "# Remove rows containing outliers\n",
    "cleaned_df = df[~outliers.any(axis=1)]\n",
    "\n",
    "# Print the cleaned dataset\n",
    "print(\"Cleaned dataset after removing outliers:\")\n",
    "cleaned_df.head()"
   ]
  },
  {
   "cell_type": "code",
   "execution_count": 27,
   "metadata": {},
   "outputs": [],
   "source": [
    "df.to_csv('dataset_new.csv', index=False)"
   ]
  }
 ],
 "metadata": {
  "kernelspec": {
   "display_name": "Python 3",
   "language": "python",
   "name": "python3"
  },
  "language_info": {
   "codemirror_mode": {
    "name": "ipython",
    "version": 3
   },
   "file_extension": ".py",
   "mimetype": "text/x-python",
   "name": "python",
   "nbconvert_exporter": "python",
   "pygments_lexer": "ipython3",
   "version": "3.9.6"
  }
 },
 "nbformat": 4,
 "nbformat_minor": 2
}
